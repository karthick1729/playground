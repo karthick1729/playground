{
 "cells": [
  {
   "cell_type": "code",
   "execution_count": 2,
   "metadata": {},
   "outputs": [
    {
     "name": "stderr",
     "output_type": "stream",
     "text": [
      "c:\\Users\\karthick\\anaconda3\\envs\\pytorch\\lib\\site-packages\\tqdm\\auto.py:22: TqdmWarning: IProgress not found. Please update jupyter and ipywidgets. See https://ipywidgets.readthedocs.io/en/stable/user_install.html\n",
      "  from .autonotebook import tqdm as notebook_tqdm\n"
     ]
    }
   ],
   "source": [
    "import torch\n",
    "import matplotlib.pyplot as plt\n",
    "import matplotlib.image as mpimg\n",
    "import numpy as np\n",
    "%matplotlib inline"
   ]
  },
  {
   "cell_type": "code",
   "execution_count": 65,
   "metadata": {},
   "outputs": [],
   "source": [
    "def get_shape(img_shape,filter_shape,stride,padding):\n",
    "    assert len(img_shape) == 4\n",
    "    assert len(filter_shape) == 4\n",
    "    assert filter_shape[2] == filter_shape[3] and filter_shape[1] == img_shape[1]\n",
    "    batch_size = img_shape[0]\n",
    "    h = img_shape[2] - filter_shape[2] + 1\n",
    "    w = img_shape[3] - filter_shape[3] + 1\n",
    "    return (batch_size,filter.shape[0],h, w)"
   ]
  },
  {
   "cell_type": "code",
   "execution_count": 115,
   "metadata": {},
   "outputs": [
    {
     "name": "stdout",
     "output_type": "stream",
     "text": [
      "epoch: 9, loss: 3.2300788221215927e-10, W: 3.949679745665361, b: 6.232050337890945\n",
      "epoch: 0, loss: 53547.50533765337, W: -267.19133001330005, b: -4.013999999999999\n",
      "epoch: 1, loss: 245291777.01775575, W: -18351.917728913944, b: -275.3096100133\n",
      "epoch: 2, loss: 1123645636509.7727, W: -1242362.39463362, b: -18636.75753112751\n",
      "epoch: 3, loss: 5147255784461611.0, W: -84085840.78734554, b: -1261375.91131537\n",
      "epoch: 4, loss: 2.357882347407744e+19, W: -5691098232.616915, b: -85372448.24088721\n",
      "epoch: 5, loss: 1.0801113053289963e+23, W: -385184916841.5681, b: -5778178133.846621\n",
      "epoch: 6, loss: 4.947831401266108e+26, W: -26070085947604.062, b: -391078658542.11566\n",
      "epoch: 7, loss: 2.266528963688436e+30, W: -1764475584562234.8, b: -26468986179321.043\n",
      "epoch: 8, loss: 1.0382636607067938e+34, W: -1.1942323837263397e+17, b: -1791473950465146.2\n",
      "epoch: 9, loss: 4.756133481700597e+37, W: -8.082803745309567e+18, b: -1.2125054180210845e+17\n"
     ]
    }
   ],
   "source": [
    "\n",
    "def predict(X,W,b):\n",
    "    return W * X + b\n",
    "\n",
    "def train1():\n",
    "    X = np.linspace(0, 100,100000).astype(int)\n",
    "    Y = 0.5 * X + 2.2\n",
    "    lr = 0.001\n",
    "    W = 2.1\n",
    "    b = 1.1\n",
    "    for epoch in range(500):\n",
    "        Y_hat = predict(X,W,b)\n",
    "        loss = np.mean((Y_hat-Y) ** 2)\n",
    "        grad_w = np.mean(2 * X * (Y - Y_hat) * -1)\n",
    "        grad_b = np.mean(2 * (Y - Y_hat) * -1)\n",
    "        W -= lr * grad_w\n",
    "        b -= lr * grad_b\n",
    "        print(f\"epoch: {epoch}, loss: {loss}, W: {W}, b: {b}\")\n",
    "\n",
    "def train():\n",
    "    \"\"\"write linear regression with numpy\"\"\"\n",
    "    X = np.linspace(0, 100,100000)\n",
    "    Y = 4 * X + 1.2\n",
    "    lr = 0.01\n",
    "    W = 0.01\n",
    "    b = 0\n",
    "    for epoch in range(10):\n",
    "        for i in range(X.shape[0]):\n",
    "            x = X[i]\n",
    "            y = Y[i]\n",
    "            y_hat = W * x + b\n",
    "            residual = 1/2*(y_hat-y)**2 \n",
    "            grad_w = 1/2*(y_hat-y)*W \n",
    "            grad_b = 1/2*(y_hat-y)\n",
    "            W = W - lr * grad_w\n",
    "            b = b - lr * grad_b\n",
    "    print(f\"epoch: {epoch}, loss: {residual}, W: {W}, b: {b}\")\n",
    "    W = 0.01\n",
    "    lr = 0.01\n",
    "    b = 0\n",
    "    for epoch in range(10):\n",
    "        Y_hat = W * X + b\n",
    "        loss = np.mean((Y_hat-Y) ** 2)\n",
    "        grad_w = np.mean(-2 * X.T * (Y_hat - Y))\n",
    "        grad_b = np.mean(-2 * (Y_hat - Y))\n",
    "        W = W - lr * grad_w\n",
    "        b = b - lr * grad_b\n",
    "        print(f\"epoch: {epoch}, loss: {loss}, W: {W}, b: {b}\")\n",
    "train()"
   ]
  },
  {
   "cell_type": "code",
   "execution_count": 96,
   "metadata": {},
   "outputs": [
    {
     "name": "stdout",
     "output_type": "stream",
     "text": [
      "[0, 1, 1, 2, 3, 5, 8, 13, 21, 34]\n"
     ]
    }
   ],
   "source": [
    "def fib(n,fib_series):\n",
    "    if n<=1:\n",
    "        return n\n",
    "    if fib_series[n]!=0:\n",
    "        return fib_series[n]\n",
    "    fib_series[n] = fib(n-1,fib_series) + fib(n-2,fib_series)\n",
    "    return fib_series[n]\n",
    "def run():\n",
    "    n = 10\n",
    "    fib_series = [0] * n\n",
    "    fib_series[0] = 0\n",
    "    fib_series[1] = 1\n",
    "    for i in range(2,n):\n",
    "        fib(i,fib_series)\n",
    "    print(fib_series)\n",
    "run()"
   ]
  },
  {
   "cell_type": "code",
   "execution_count": null,
   "metadata": {},
   "outputs": [],
   "source": []
  },
  {
   "cell_type": "code",
   "execution_count": 68,
   "metadata": {},
   "outputs": [],
   "source": [
    "def convolution(img,filter,stride,padding=False):\n",
    "    new_shape = get_shape(img.shape,filter.shape,stride,padding)\n",
    "    new_img = np.zeros(new_shape)\n",
    "    for i in range(new_img.shape[2]):\n",
    "        i_start = i *stride\n",
    "        i_end = i_start + filter.shape[2]\n",
    "        for j in range(new_img.shape[3]):\n",
    "            j_start = j*stride\n",
    "            j_end = j_start + filter.shape[3]\n",
    "            new_img[:,:,i,j] = np.sum(img[:,np.newaxis,:,i_start:i_end,j_start:j_end] * filter,axis=(2,3,4))\n",
    "    return new_img"
   ]
  },
  {
   "cell_type": "code",
   "execution_count": 70,
   "metadata": {},
   "outputs": [
    {
     "name": "stdout",
     "output_type": "stream",
     "text": [
      "(5, 20, 219, 219)\n",
      "(5, 20, 219, 219)\n"
     ]
    }
   ],
   "source": [
    "filter = np.random.randint(-1,1,(20,3,10,10))\n",
    "img = np.random.randint(1,255,(5,3,228,228))\n",
    "new_img = convolution(img,filter,1)"
   ]
  },
  {
   "cell_type": "code",
   "execution_count": 73,
   "metadata": {},
   "outputs": [
    {
     "ename": "ValueError",
     "evalue": "axes don't match array",
     "output_type": "error",
     "traceback": [
      "\u001b[1;31m---------------------------------------------------------------------------\u001b[0m",
      "\u001b[1;31mValueError\u001b[0m                                Traceback (most recent call last)",
      "\u001b[1;32m~\\AppData\\Local\\Temp\\ipykernel_12888\\1717698129.py\u001b[0m in \u001b[0;36m<module>\u001b[1;34m\u001b[0m\n\u001b[1;32m----> 1\u001b[1;33m \u001b[0mplt\u001b[0m\u001b[1;33m.\u001b[0m\u001b[0mimshow\u001b[0m\u001b[1;33m(\u001b[0m\u001b[0mnew_img\u001b[0m\u001b[1;33m[\u001b[0m\u001b[1;36m1\u001b[0m\u001b[1;33m,\u001b[0m\u001b[1;36m1\u001b[0m\u001b[1;33m]\u001b[0m\u001b[1;33m.\u001b[0m\u001b[0mtranspose\u001b[0m\u001b[1;33m(\u001b[0m\u001b[1;33m(\u001b[0m\u001b[1;36m1\u001b[0m\u001b[1;33m,\u001b[0m\u001b[1;36m2\u001b[0m\u001b[1;33m,\u001b[0m\u001b[1;36m0\u001b[0m\u001b[1;33m)\u001b[0m\u001b[1;33m)\u001b[0m\u001b[1;33m,\u001b[0m \u001b[0mcmap\u001b[0m\u001b[1;33m=\u001b[0m\u001b[1;34m\"hot\"\u001b[0m\u001b[1;33m)\u001b[0m\u001b[1;33m\u001b[0m\u001b[1;33m\u001b[0m\u001b[0m\n\u001b[0m\u001b[0;32m      2\u001b[0m \u001b[0mplt\u001b[0m\u001b[1;33m.\u001b[0m\u001b[0mcolorbar\u001b[0m\u001b[1;33m(\u001b[0m\u001b[1;33m)\u001b[0m\u001b[1;33m\u001b[0m\u001b[1;33m\u001b[0m\u001b[0m\n",
      "\u001b[1;31mValueError\u001b[0m: axes don't match array"
     ]
    }
   ],
   "source": [
    "plt.imshow(new_img[1,1].transpose((1,2,0)), cmap=\"hot\")\n",
    "plt.colorbar()\n"
   ]
  },
  {
   "cell_type": "code",
   "execution_count": 31,
   "metadata": {},
   "outputs": [
    {
     "name": "stdout",
     "output_type": "stream",
     "text": [
      "(5, 226, 226)\n"
     ]
    },
    {
     "ename": "ValueError",
     "evalue": "could not broadcast input array from shape (5,) into shape (5,1)",
     "output_type": "error",
     "traceback": [
      "\u001b[1;31m---------------------------------------------------------------------------\u001b[0m",
      "\u001b[1;31mValueError\u001b[0m                                Traceback (most recent call last)",
      "\u001b[1;32m~\\AppData\\Local\\Temp\\ipykernel_12888\\3671054886.py\u001b[0m in \u001b[0;36m<module>\u001b[1;34m\u001b[0m\n\u001b[1;32m----> 1\u001b[1;33m \u001b[0mconvolution\u001b[0m\u001b[1;33m(\u001b[0m\u001b[0mimg\u001b[0m\u001b[1;33m,\u001b[0m\u001b[0mfilter\u001b[0m\u001b[1;33m,\u001b[0m\u001b[1;36m1\u001b[0m\u001b[1;33m)\u001b[0m\u001b[1;33m\u001b[0m\u001b[1;33m\u001b[0m\u001b[0m\n\u001b[0m",
      "\u001b[1;32m~\\AppData\\Local\\Temp\\ipykernel_12888\\3512600703.py\u001b[0m in \u001b[0;36mconvolution\u001b[1;34m(img, filter, stride, padding)\u001b[0m\n\u001b[0;32m     10\u001b[0m             \u001b[1;32mif\u001b[0m \u001b[0mj\u001b[0m\u001b[1;33m+\u001b[0m\u001b[0mstride\u001b[0m\u001b[1;33m>=\u001b[0m\u001b[0mimg\u001b[0m\u001b[1;33m.\u001b[0m\u001b[0mshape\u001b[0m\u001b[1;33m[\u001b[0m\u001b[1;36m3\u001b[0m\u001b[1;33m]\u001b[0m\u001b[1;33m:\u001b[0m\u001b[1;33m\u001b[0m\u001b[1;33m\u001b[0m\u001b[0m\n\u001b[0;32m     11\u001b[0m                 \u001b[1;32mbreak\u001b[0m\u001b[1;33m\u001b[0m\u001b[1;33m\u001b[0m\u001b[0m\n\u001b[1;32m---> 12\u001b[1;33m             \u001b[0mnew_img\u001b[0m\u001b[1;33m[\u001b[0m\u001b[1;33m:\u001b[0m\u001b[1;33m,\u001b[0m\u001b[0mnp\u001b[0m\u001b[1;33m.\u001b[0m\u001b[0mnewaxis\u001b[0m\u001b[1;33m,\u001b[0m\u001b[0mi\u001b[0m\u001b[1;33m,\u001b[0m\u001b[0mj\u001b[0m\u001b[1;33m]\u001b[0m \u001b[1;33m=\u001b[0m \u001b[0mnp\u001b[0m\u001b[1;33m.\u001b[0m\u001b[0msum\u001b[0m\u001b[1;33m(\u001b[0m\u001b[0mimg\u001b[0m\u001b[1;33m[\u001b[0m\u001b[1;33m:\u001b[0m\u001b[1;33m,\u001b[0m\u001b[1;33m:\u001b[0m\u001b[1;33m,\u001b[0m\u001b[0mi\u001b[0m\u001b[1;33m:\u001b[0m\u001b[0mi\u001b[0m\u001b[1;33m+\u001b[0m\u001b[0mstride\u001b[0m\u001b[1;33m,\u001b[0m\u001b[0mj\u001b[0m\u001b[1;33m:\u001b[0m\u001b[0mj\u001b[0m\u001b[1;33m+\u001b[0m\u001b[0mstride\u001b[0m\u001b[1;33m]\u001b[0m \u001b[1;33m*\u001b[0m \u001b[0mfilter\u001b[0m\u001b[1;33m,\u001b[0m\u001b[0maxis\u001b[0m\u001b[1;33m=\u001b[0m\u001b[1;33m(\u001b[0m\u001b[1;36m1\u001b[0m\u001b[1;33m,\u001b[0m\u001b[1;36m2\u001b[0m\u001b[1;33m,\u001b[0m\u001b[1;36m3\u001b[0m\u001b[1;33m)\u001b[0m\u001b[1;33m)\u001b[0m\u001b[1;33m\u001b[0m\u001b[1;33m\u001b[0m\u001b[0m\n\u001b[0m\u001b[0;32m     13\u001b[0m     \u001b[1;32mreturn\u001b[0m \u001b[0mnew_img\u001b[0m\u001b[1;33m\u001b[0m\u001b[1;33m\u001b[0m\u001b[0m\n",
      "\u001b[1;31mValueError\u001b[0m: could not broadcast input array from shape (5,) into shape (5,1)"
     ]
    }
   ],
   "source": []
  },
  {
   "cell_type": "code",
   "execution_count": 33,
   "metadata": {},
   "outputs": [
    {
     "data": {
      "text/plain": [
       "(5, 3, 228, 228)"
      ]
     },
     "execution_count": 33,
     "metadata": {},
     "output_type": "execute_result"
    }
   ],
   "source": [
    "img.shape"
   ]
  },
  {
   "cell_type": "code",
   "execution_count": 34,
   "metadata": {},
   "outputs": [
    {
     "data": {
      "text/plain": [
       "(20, 3, 3, 3)"
      ]
     },
     "execution_count": 34,
     "metadata": {},
     "output_type": "execute_result"
    }
   ],
   "source": [
    "filter.shape"
   ]
  },
  {
   "cell_type": "code",
   "execution_count": 50,
   "metadata": {},
   "outputs": [],
   "source": [
    "res = np.sum(img[:,np.newaxis,:,0:3,0:3] * filter[:,:,:,:],axis=(2,3,4))"
   ]
  },
  {
   "cell_type": "code",
   "execution_count": 52,
   "metadata": {},
   "outputs": [
    {
     "data": {
      "text/plain": [
       "(5, 20)"
      ]
     },
     "execution_count": 52,
     "metadata": {},
     "output_type": "execute_result"
    }
   ],
   "source": [
    "res.shape"
   ]
  },
  {
   "cell_type": "code",
   "execution_count": null,
   "metadata": {},
   "outputs": [],
   "source": []
  },
  {
   "cell_type": "code",
   "execution_count": null,
   "metadata": {},
   "outputs": [],
   "source": []
  }
 ],
 "metadata": {
  "kernelspec": {
   "display_name": "pytorch",
   "language": "python",
   "name": "python3"
  },
  "language_info": {
   "codemirror_mode": {
    "name": "ipython",
    "version": 3
   },
   "file_extension": ".py",
   "mimetype": "text/x-python",
   "name": "python",
   "nbconvert_exporter": "python",
   "pygments_lexer": "ipython3",
   "version": "3.7.16"
  },
  "orig_nbformat": 4,
  "vscode": {
   "interpreter": {
    "hash": "3052740a82b9920156bf7bdc2b63559d9e7c6aaeb41d2c196c1cd4e8cd45216e"
   }
  }
 },
 "nbformat": 4,
 "nbformat_minor": 2
}
