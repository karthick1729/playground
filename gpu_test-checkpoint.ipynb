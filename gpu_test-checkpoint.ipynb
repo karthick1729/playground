{
 "cells": [
  {
   "cell_type": "code",
   "execution_count": 12,
   "id": "f55299f2",
   "metadata": {},
   "outputs": [],
   "source": [
    "import torch\n",
    "import time"
   ]
  },
  {
   "cell_type": "code",
   "execution_count": 3,
   "id": "f0b31d0d",
   "metadata": {},
   "outputs": [
    {
     "data": {
      "text/plain": [
       "True"
      ]
     },
     "execution_count": 3,
     "metadata": {},
     "output_type": "execute_result"
    }
   ],
   "source": [
    "torch.cuda.is_available()"
   ]
  },
  {
   "cell_type": "code",
   "execution_count": 4,
   "id": "3527f149",
   "metadata": {},
   "outputs": [],
   "source": [
    "import numpy as np"
   ]
  },
  {
   "cell_type": "code",
   "execution_count": 13,
   "id": "5881a93d",
   "metadata": {},
   "outputs": [],
   "source": [
    "W = np.random.rand(100000,1000)\n",
    "x = np.random.rand(1000,100000)"
   ]
  },
  {
   "cell_type": "code",
   "execution_count": 14,
   "id": "7f9b14c5",
   "metadata": {},
   "outputs": [],
   "source": [
    "W_g = torch.from_numpy(W).to('cuda')\n",
    "x_g = torch.from_numpy(x).to('cuda')"
   ]
  },
  {
   "cell_type": "code",
   "execution_count": null,
   "id": "8d91b8ae",
   "metadata": {},
   "outputs": [],
   "source": [
    "t1 = time.time()\n",
    "res = np.dot(W,x)\n",
    "cpu_time = time.time()-t1\n"
   ]
  },
  {
   "cell_type": "code",
   "execution_count": null,
   "id": "bc25cc5f",
   "metadata": {},
   "outputs": [],
   "source": [
    "t1 = time.time()\n",
    "res = np.dot(W,x)\n",
    "gpu_time = time.time()-t1\n",
    "print(gpu_time//cpu_time)"
   ]
  }
 ],
 "metadata": {
  "kernelspec": {
   "display_name": "Python 3 (ipykernel)",
   "language": "python",
   "name": "python3"
  },
  "language_info": {
   "codemirror_mode": {
    "name": "ipython",
    "version": 3
   },
   "file_extension": ".py",
   "mimetype": "text/x-python",
   "name": "python",
   "nbconvert_exporter": "python",
   "pygments_lexer": "ipython3",
   "version": "3.9.13"
  }
 },
 "nbformat": 4,
 "nbformat_minor": 5
}
